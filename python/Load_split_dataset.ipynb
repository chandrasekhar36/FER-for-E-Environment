{
 "cells": [
  {
   "cell_type": "code",
   "execution_count": 0,
   "metadata": {
    "colab": {},
    "colab_type": "code",
    "id": "KtQgT_6dvkSS"
   },
   "outputs": [],
   "source": [
    "import pandas as pd\n",
    "import numpy as np \n",
    "from sklearn.utils import shuffle\n",
    "import cv2\n",
    "import glob\n",
    "import random\n",

    "from PIL import Image\n",
    "emotions = ['boredm','confusion','engagement','frustration'] \n",
    "clahe = cv2.createCLAHE(clipLimit=2.0, tileGridSize=(8,8))"
   ]
  },
  {
   "cell_type": "code",
   "execution_count": 0,
   "metadata": {
    "colab": {},
    "colab_type": "code",
    "id": "19tAD1TEW-ng"
   },
   "outputs": [],
   "source": [
    "def get_files(emotion): #Define function to get file list, randomly shuffle it and split 80/20\n",
    "    files = glob.glob(\"../dataset/%s/*\" %emotion)\n",
    "    random.shuffle(files)\n",
    "    training = files[:int(len(files)*0.8)] #get first 80% of file list\n",
    "    prediction = files[-int(len(files)*0.2):] #get last 20% of file list\n",
    "    return training, prediction  "
   ]
  },
  {
   "cell_type": "code",
   "execution_count": 0,
   "metadata": {
    "colab": {},
    "colab_type": "code",
    "id": "Ayk1BgGb8H_c"
   },
   "outputs": [],
   "source": [
    "def get_img(ems):\n",
    "  clahe = cv2.createCLAHE(clipLimit=2.0, tileGridSize=(8,8))\n",
    "  pixel=[]\n",
    "  usage=[]\n",
    "  em=[]\n",
    "  for xx in range(len(ems)):\n",
    "    tr,te=get_files(ems[xx])\n",
    "    for item in tr:\n",
    "      image = cv2.imread(item) #open image\n",
    "      gray = cv2.cvtColor(image, cv2.COLOR_BGR2GRAY) #convert to grayscale\n",
    "      gray=np.asarray(Image.fromarray(gray).resize((48,48)))\n",
    "      clahe_image = clahe.apply(gray)\n",
    "      clahe_image=clahe_image.reshape(48*48)\n",
    "      s=\"\"\n",
    "      for i in clahe_image:\n",
    "        s=s+str(i)+\" \"\n",
    "      em.append(xx)\n",
    "      pixel.append(s)\n",
    "      usage.append('train')\n",
    "    for item in te:\n",
    "      image = cv2.imread(item) #open image\n",
    "      gray = cv2.cvtColor(image, cv2.COLOR_BGR2GRAY) #convert to grayscale\n",
    "      gray=np.asarray(Image.fromarray(gray).resize((48,48)))\n",
    "      clahe_image = clahe.apply(gray)\n",
    "      clahe_image=clahe_image.reshape(48*48)\n",
    "      s=\"\"\n",
    "      for i in clahe_image:\n",
    "        s=s+str(i)+\" \"\n",
    "      em.append(xx)\n",
    "      pixel.append(s)\n",
    "      usage.append('test')\n",
    "    print('done',ems[xx])\n",
    "  df={'emotion':pd.Series(em),'pixels':pd.Series(pixel),'usage':pd.Series(usage)}\n",
    "  return df"
   ]
  },
  {
   "cell_type": "code",
   "execution_count": 0,
   "metadata": {
    "colab": {
     "base_uri": "https://localhost:8080/",
     "height": 85
    },
    "colab_type": "code",
    "id": "I_PYSpbyyzIs",
    "outputId": "c8fd979e-462a-4699-ba67-1eac84c15cf4"
   },
   "outputs": [
    {
     "name": "stdout",
     "output_type": "stream",
     "text": [
      "done boredm\n",
      "done confusion\n",
      "done engagement\n",
      "done frustration\n"
     ]
    }
   ],
   "source": [
    "d=get_img(emotions)"
   ]
  },
  {
   "cell_type": "code",
   "execution_count": 0,
   "metadata": {
    "colab": {
     "base_uri": "https://localhost:8080/",
     "height": 419
    },
    "colab_type": "code",
    "id": "6hvjXizZ7phM",
    "outputId": "e00eec50-8ec6-4703-bfa6-bef960e9c443"
   },
   "outputs": [
    {
     "data": {
      "text/html": [
       "<div>\n",
       "<style scoped>\n",
       "    .dataframe tbody tr th:only-of-type {\n",
       "        vertical-align: middle;\n",
       "    }\n",
       "\n",
       "    .dataframe tbody tr th {\n",
       "        vertical-align: top;\n",
       "    }\n",
       "\n",
       "    .dataframe thead th {\n",
       "        text-align: right;\n",
       "    }\n",
       "</style>\n",
       "<table border=\"1\" class=\"dataframe\">\n",
       "  <thead>\n",
       "    <tr style=\"text-align: right;\">\n",
       "      <th></th>\n",
       "      <th>emotion</th>\n",
       "      <th>pixels</th>\n",
       "      <th>usage</th>\n",
       "    </tr>\n",
       "  </thead>\n",
       "  <tbody>\n",
       "    <tr>\n",
       "      <th>0</th>\n",
       "      <td>0</td>\n",
       "      <td>255 234 212 177 163 170 174 135 177 234 176 89...</td>\n",
       "      <td>train</td>\n",
       "    </tr>\n",
       "    <tr>\n",
       "      <th>1</th>\n",
       "      <td>0</td>\n",
       "      <td>71 50 28 42 86 89 88 88 83 71 62 59 64 62 66 6...</td>\n",
       "      <td>train</td>\n",
       "    </tr>\n",
       "    <tr>\n",
       "      <th>2</th>\n",
       "      <td>0</td>\n",
       "      <td>14 57 99 156 149 137 120 106 109 106 126 121 1...</td>\n",
       "      <td>train</td>\n",
       "    </tr>\n",
       "    <tr>\n",
       "      <th>3</th>\n",
       "      <td>0</td>\n",
       "      <td>227 198 128 71 68 47 42 28 68 106 158 175 166 ...</td>\n",
       "      <td>train</td>\n",
       "    </tr>\n",
       "    <tr>\n",
       "      <th>4</th>\n",
       "      <td>0</td>\n",
       "      <td>248 220 205 142 78 40 42 62 88 113 137 158 152...</td>\n",
       "      <td>train</td>\n",
       "    </tr>\n",
       "    <tr>\n",
       "      <th>...</th>\n",
       "      <td>...</td>\n",
       "      <td>...</td>\n",
       "      <td>...</td>\n",
       "    </tr>\n",
       "    <tr>\n",
       "      <th>3802</th>\n",
       "      <td>3</td>\n",
       "      <td>234 234 198 92 121 163 110 59 60 57 50 28 100 ...</td>\n",
       "      <td>test</td>\n",
       "    </tr>\n",
       "    <tr>\n",
       "      <th>3803</th>\n",
       "      <td>3</td>\n",
       "      <td>92 28 42 142 178 173 149 144 152 184 184 177 1...</td>\n",
       "      <td>test</td>\n",
       "    </tr>\n",
       "    <tr>\n",
       "      <th>3804</th>\n",
       "      <td>3</td>\n",
       "      <td>42 28 28 78 102 130 156 151 133 113 99 108 99 ...</td>\n",
       "      <td>test</td>\n",
       "    </tr>\n",
       "    <tr>\n",
       "      <th>3805</th>\n",
       "      <td>3</td>\n",
       "      <td>64 35 50 50 44 38 32 26 48 78 99 120 117 111 1...</td>\n",
       "      <td>test</td>\n",
       "    </tr>\n",
       "    <tr>\n",
       "      <th>3806</th>\n",
       "      <td>3</td>\n",
       "      <td>99 71 35 78 131 160 195 189 147 106 116 130 14...</td>\n",
       "      <td>test</td>\n",
       "    </tr>\n",
       "  </tbody>\n",
       "</table>\n",
       "<p>3807 rows × 3 columns</p>\n",
       "</div>"
      ],
      "text/plain": [
       "      emotion                                             pixels  usage\n",
       "0           0  255 234 212 177 163 170 174 135 177 234 176 89...  train\n",
       "1           0  71 50 28 42 86 89 88 88 83 71 62 59 64 62 66 6...  train\n",
       "2           0  14 57 99 156 149 137 120 106 109 106 126 121 1...  train\n",
       "3           0  227 198 128 71 68 47 42 28 68 106 158 175 166 ...  train\n",
       "4           0  248 220 205 142 78 40 42 62 88 113 137 158 152...  train\n",
       "...       ...                                                ...    ...\n",
       "3802        3  234 234 198 92 121 163 110 59 60 57 50 28 100 ...   test\n",
       "3803        3  92 28 42 142 178 173 149 144 152 184 184 177 1...   test\n",
       "3804        3  42 28 28 78 102 130 156 151 133 113 99 108 99 ...   test\n",
       "3805        3  64 35 50 50 44 38 32 26 48 78 99 120 117 111 1...   test\n",
       "3806        3  99 71 35 78 131 160 195 189 147 106 116 130 14...   test\n",
       "\n",
       "[3807 rows x 3 columns]"
      ]
     },
     "execution_count": 7,
     "metadata": {
      "tags": []
     },
     "output_type": "execute_result"
    }
   ],
   "source": [
    "df=pd.DataFrame(d)\n",
    "df"
   ]
  },
  {
   "cell_type": "code",
   "execution_count": 0,
   "metadata": {
    "colab": {},
    "colab_type": "code",
    "id": "qk9LyqAkJJvA"
   },
   "outputs": [],
   "source": [
    "df.to_pickle(\"../res/Images_data.pkl\")"
   ]
  }
 ],
 "metadata": {
  "accelerator": "TPU",
  "colab": {
   "collapsed_sections": [],
   "name": "Load_split_dataset.ipynb",
   "provenance": []
  },
  "kernelspec": {
   "display_name": "Python 3",
   "language": "python",
   "name": "python3"
  },
  "language_info": {
   "codemirror_mode": {
    "name": "ipython",
    "version": 3
   },
   "file_extension": ".py",
   "mimetype": "text/x-python",
   "name": "python",
   "nbconvert_exporter": "python",
   "pygments_lexer": "ipython3",
   "version": "3.6.10"
  }
 },
 "nbformat": 4,
 "nbformat_minor": 1
}
